{
 "cells": [
  {
   "cell_type": "code",
   "execution_count": 7,
   "metadata": {},
   "outputs": [
    {
     "name": "stdout",
     "output_type": "stream",
     "text": [
      "keywords:  [('data mining/data analysis methods', 17.666666666666668), ('distributed data/computing tools', 13.25), ('experience visualizing/presenting data', 13.0), ('advanced machine learning algorithms', 12.666666666666668), ('develop custom data models', 12.066666666666666), ('experience manipulating data sets', 12.0), ('machine learning techniques', 9.333333333333334), ('social network analysis', 9.333333333333334), ('large data sets', 9.0), ('discovering solutions hidden', 9.0), ('optimize customer experiences', 9.0), ('verbal communication skills', 9.0), ('3rd party providers', 9.0), ('decision tree learning', 8.833333333333334), ('data mining techniques', 8.833333333333334), ('analyzing company data', 8.5), ('creating/running simulations', 8.5), ('leveraging company data', 8.5), ('data gathering techniques', 8.5), ('analyze model performance', 8.5), ('creating data architectures', 8.5), ('advanced statistical techniques', 8.5), ('data scientist\\n\\n    work', 8.333333333333334), ('data-based insights', 8.25), ('test model quality', 8.0), ('artificial neural networks', 8.0), ('experience analyzing data', 8.0), ('improve business outcomes', 7.666666666666668), ('statistical computer languages', 7.5), ('experience querying databases', 7.5), ('drive business solutions', 7.333333333333334), ('building statistical models', 6.9), ('data sets', 6.0), ('analyze data', 5.5), ('data scientist', 5.333333333333334), ('text mining', 5.333333333333334), ('scenario analysis', 5.333333333333334), ('data tools', 5.25), ('develop company', 5.166666666666666), ('company databases', 5.0), ('data sources', 5.0), ('manipulate data', 5.0), ('neural networks', 5.0), ('/creating algorithms', 4.833333333333334), ('business outcomes', 4.666666666666667), ('develop processes', 4.666666666666666), ('computer science', 4.666666666666666), ('marketing techniques', 4.5), ('data accuracy', 4.5), ('statistical tests', 4.5), ('experience creating', 4.5), ('implementing models', 4.4), ('implement models', 4.4), ('drive business', 4.333333333333334), ('business strategies', 4.333333333333334), ('business objects', 4.333333333333334), ('insights gained', 4.25), ('draw insights', 4.25), ('software/tools', 4.25), ('facebook insights', 4.25), ('find opportunities', 4.0), ('process optimization', 4.0), ('strong experience', 4.0), ('proven ability', 4.0), ('wide range', 4.0), ('identify opportunities', 4.0), ('drive optimization', 4.0), ('revenue generation', 4.0), ('ad targeting', 4.0), ('testing framework', 4.0), ('advantages/drawbacks', 4.0), ('proper usage', 4.0), ('excellent written', 4.0), ('quantitative field', 4.0), ('random forest', 4.0), ('web services', 4.0), ('decision trees', 4.0), ('google analytics', 4.0), ('site catalyst', 4.0), ('crimson hexagon', 4.0), ('map/reduce', 4.0), ('src=jd', 4.0), ('monitor outcomes', 3.8333333333333335), ('marketing teams', 3.75), ('functional teams', 3.75), ('comfortable working', 3.666666666666667), ('experience working', 3.666666666666667), ('ideal candidate', 3.5), ('product development', 3.5), ('predictive modeling', 3.5), ('glm/regression', 3.333333333333333), ('coding knowledge', 3.25), ('/post-job', 3.0), ('techniques', 2.5), ('statistical', 2.5), ('models', 2.4), ('algorithms', 2.3333333333333335), ('languages', 2.3333333333333335), ('tools', 2.25), ('test', 2.0), ('building', 2.0), ('experience', 2.0), ('drive', 2.0), ('teams', 1.75), ('working', 1.6666666666666667), ('product', 1.5), ('candidate', 1.5), ('accuracy', 1.5), ('monitor', 1.5), ('trees', 1.5), ('modeling', 1.5), ('post', 1.5), ('job', 1.5), ('regression', 1.3333333333333333), ('knowledge', 1.25), ('support', 1.0), ('sales', 1.0), ('leadership', 1.0), ('adept', 1.0), ('effectiveness', 1.0), ('courses', 1.0), ('action', 1.0), ('variety', 1.0), ('stakeholders', 1.0), ('passion', 1.0), ('responsibilities', 1.0), ('organization', 1.0), ('mine', 1.0), ('improvement', 1.0), ('assess', 1.0), ('apply', 1.0), ('increase', 1.0), ('coordinate', 1.0), ('qualifications', 1.0), ('emphasis', 1.0), ('python', 1.0), ('slq', 1.0), ('clustering', 1.0), ('real-', 1.0), ('concepts', 1.0), ('properties', 1.0), ('distributions', 1.0), ('applications', 1.0), ('coordinating', 1.0), ('learn', 1.0), ('master', 1.0), ('technologies', 1.0), ('5-7 years', 1.0), ('phd', 1.0), ('statistics', 1.0), ('mathematics', 1.0), ('familiar', 1.0), ('java', 1.0), ('javascript', 1.0), ('boosting', 1.0), ('redshift', 1.0), ('s3', 1.0), ('spark', 1.0), ('digitalocean', 1.0), ('simulation', 1.0), ('coremetrics', 1.0), ('adwords', 1.0), ('hadoop', 1.0), ('hive', 1.0), ('gurobi', 1.0), ('mysql', 1.0), ('periscope', 1.0), ('d3', 1.0), ('ggplot', 1.0), ('ready', 1.0), ('hire', 1.0), ('remember', 1.0), ('glassdoor', 1.0), ('free', 1.0), ('https', 1.0), ('/', 0), ('++', 0), ('//', 0)]\n"
     ]
    }
   ],
   "source": [
    "import RAKE\n",
    "import operator\n",
    "\n",
    "# Reka setup with stopword directory\n",
    "stop_dir = \"stopword_file.csv\"\n",
    "rake_object = RAKE.Rake(stop_dir)\n",
    "\n",
    "# Sample text to test RAKE\n",
    "\n",
    "\n",
    "\n",
    "\n",
    "# Extract keywords\n",
    "keywords = rake_object.run(text)\n",
    "print (\"keywords: \", keywords)"
   ]
  },
  {
   "cell_type": "code",
   "execution_count": 5,
   "metadata": {},
   "outputs": [
    {
     "name": "stdout",
     "output_type": "stream",
     "text": [
      "Collecting python-rake\n",
      "  Downloading https://files.pythonhosted.org/packages/f1/73/ca25af5abd2d1c87f191dbb2dd7cddb50716952c7d13b6b06b5281713709/python-rake-1.4.5.tar.gz\n",
      "Building wheels for collected packages: python-rake\n",
      "  Building wheel for python-rake (setup.py): started\n",
      "  Building wheel for python-rake (setup.py): finished with status 'done'\n",
      "  Stored in directory: C:\\Users\\bhavy\\AppData\\Local\\pip\\Cache\\wheels\\d7\\7a\\89\\a3fde73e563b625a62cbd4a412525198fb13f674f62ecb5cf9\n",
      "Successfully built python-rake\n",
      "Installing collected packages: python-rake\n",
      "Successfully installed python-rake-1.4.5\n"
     ]
    },
    {
     "name": "stderr",
     "output_type": "stream",
     "text": [
      "You are using pip version 19.0.1, however version 19.0.2 is available.\n",
      "You should consider upgrading via the 'python -m pip install --upgrade pip' command.\n"
     ]
    }
   ],
   "source": [
    "! pip install python-rake"
   ]
  }
 ],
 "metadata": {
  "kernelspec": {
   "display_name": "Python 3",
   "language": "python",
   "name": "python3"
  },
  "language_info": {
   "codemirror_mode": {
    "name": "ipython",
    "version": 3
   },
   "file_extension": ".py",
   "mimetype": "text/x-python",
   "name": "python",
   "nbconvert_exporter": "python",
   "pygments_lexer": "ipython3",
   "version": "3.7.1"
  }
 },
 "nbformat": 4,
 "nbformat_minor": 2
}

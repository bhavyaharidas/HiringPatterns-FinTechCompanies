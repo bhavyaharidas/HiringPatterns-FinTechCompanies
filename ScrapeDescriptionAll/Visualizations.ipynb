{
 "cells": [
  {
   "cell_type": "code",
   "execution_count": 112,
   "metadata": {},
   "outputs": [],
   "source": [
    "import gspread\n",
    "import gspread_dataframe as gd\n",
    "from oauth2client.service_account import ServiceAccountCredentials\n",
    "import pygsheets\n",
    "\n",
    "\n",
    "def write_to_gsheet(summary_frame):\n",
    "    scope = ['https://www.googleapis.com/auth/spreadsheets', 'https://www.googleapis.com/auth/drive']\n",
    "    credentials=ServiceAccountCredentials.from_json_keyfile_name('HiringPatters-FinTechCompanies-cc87726d799a.json',scope)\n",
    "    con=pygsheets.authorize(service_file='HiringPatters-FinTechCompanies-cc87726d799a.json')\n",
    "    ss = con.open('FinTechCompanySummary')\n",
    "    ws=ss[0]\n",
    "    \n",
    "    ws.set_dataframe(summary_frame,(1,1))\n",
    "\n",
    "\n",
    "def calculate_values():\n",
    "    bank_summary = {'Bank Name' : [], 'Fintech' : [], 'Non-fintech': [], 'cluster1_tech_words.csv' :[], 'cluster2_fintech_words.csv':[]}\n",
    "    for filename in os.listdir(\"ClusterScore\"):\n",
    "        if filename.endswith(\".csv\"):\n",
    "            bank_summary['Bank Name'].append(filename)\n",
    "            bank = pd.read_csv(\"ClusterScore/\" +filename)\n",
    "            col_list= list(bank)\n",
    "            col_list.remove('Bank Name')\n",
    "            col_list.remove('Job Title')\n",
    "            col_list.remove('URL (URL of the job posting)')\n",
    "            col_list.remove('Unnamed: 0')\n",
    "            bank[col_list].sum(axis=0)\n",
    "            bank_summary['Fintech'].append(bank[col_list].sum(axis=0)['FinTech Score'])\n",
    "            bank_summary['Non-fintech'].append(bank[col_list].sum(axis=0)['Non-Fintech Score'])\n",
    "            bank_summary['cluster1_tech_words.csv'].append(bank[col_list].sum(axis=0)['cluster1_tech_words.csv'])\n",
    "            bank_summary['cluster2_fintech_words.csv'].append(bank[col_list].sum(axis=0)['cluster2_fintech_words.csv'])\n",
    "    summary_frame = pd.DataFrame(bank_summary, columns=bank_summary.keys())\n",
    "    #print(list(summary_frame))\n",
    "    write_to_gsheet(summary_frame)\n",
    "\n",
    "\n",
    "if __name__ == '__main__':\n",
    "    calculate_values()"
   ]
  },
  {
   "cell_type": "code",
   "execution_count": null,
   "metadata": {},
   "outputs": [],
   "source": []
  }
 ],
 "metadata": {
  "kernelspec": {
   "display_name": "Python 3",
   "language": "python",
   "name": "python3"
  },
  "language_info": {
   "codemirror_mode": {
    "name": "ipython",
    "version": 3
   },
   "file_extension": ".py",
   "mimetype": "text/x-python",
   "name": "python",
   "nbconvert_exporter": "python",
   "pygments_lexer": "ipython3",
   "version": "3.7.1"
  }
 },
 "nbformat": 4,
 "nbformat_minor": 2
}

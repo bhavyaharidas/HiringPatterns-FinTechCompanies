{
 "cells": [
  {
   "cell_type": "code",
   "execution_count": 5,
   "metadata": {},
   "outputs": [],
   "source": [
    "import csv\n",
    "import os\n",
    "import pandas as pd\n",
    "\n",
    "\n",
    "def write_to_csv(fileName,urlDict):\n",
    "    fileName = fileName.split('/')[1]\n",
    "    if (type(urlDict) is dict):\n",
    "        data = pd.DataFrame([urlDict], columns=urlDict.keys())\n",
    "        # if file does not exist write header \n",
    "        if not os.path.isfile('Output/' + fileName):\n",
    "            data.to_csv('Output/' + fileName, header='column_names')\n",
    "        else: # else it exists so append without writing the header\n",
    "            data.to_csv('Output/' + fileName, mode='a', header=False)\n",
    "    else:\n",
    "        print(\"exception?\")\n",
    "\n",
    "def scrape_file(fileName,keywords):\n",
    "    with open(fileName, 'r', encoding = 'utf-8') as f:\n",
    "        reader = csv.reader(f)\n",
    "        for row in reader:\n",
    "            metaDict = {\"Bank Name\" : \"\", \"Job Title\" : \"\", \"URL (URL of the job posting)\" : \"\"}\n",
    "            wordCountDict = dict.fromkeys(keywords,0)\n",
    "            metaDict[\"Bank Name\"] = row[0]\n",
    "            metaDict[\"Job Title\"] = row[2]\n",
    "            metaDict[\"URL (URL of the job posting)\"] = row[3]\n",
    "            desc_words = row[1].split()\n",
    "            desc_bigrams = [(desc_words[i], desc_words[i+1]) for i in range(0, len(desc_words)-1)]\n",
    "            print(desc_bigrams)\n",
    "    \n",
    "def get_keywords():\n",
    "    with open(\"tr_tfidf_wordcount_combined.csv\", 'r', encoding = 'utf-8') as f:\n",
    "        reader = csv.reader(f)\n",
    "        keywords = list(reader)\n",
    "    arr = [i[0] for i in keywords]\n",
    "    return arr\n",
    "\n",
    "def analyse_banks():\n",
    "    keywords = get_keywords() #gets the final list of 300 keywords\n",
    "    for filename in os.listdir(\"Data\"):\n",
    "        if filename.endswith(\".csv\"):\n",
    "            print(filename)\n",
    "            scrape_file((\"Data/\" + filename),keywords)\n",
    "        break\n",
    "\n",
    "if __name__ == '__main__':\n",
    "    analyse_banks()"
   ]
  },
  {
   "cell_type": "code",
   "execution_count": null,
   "metadata": {},
   "outputs": [],
   "source": []
  }
 ],
 "metadata": {
  "kernelspec": {
   "display_name": "Python 3",
   "language": "python",
   "name": "python3"
  },
  "language_info": {
   "codemirror_mode": {
    "name": "ipython",
    "version": 3
   },
   "file_extension": ".py",
   "mimetype": "text/x-python",
   "name": "python",
   "nbconvert_exporter": "python",
   "pygments_lexer": "ipython3",
   "version": "3.7.1"
  }
 },
 "nbformat": 4,
 "nbformat_minor": 2
}

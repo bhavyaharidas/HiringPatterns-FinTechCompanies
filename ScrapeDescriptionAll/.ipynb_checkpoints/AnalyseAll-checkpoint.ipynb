{
 "cells": [
  {
   "cell_type": "code",
   "execution_count": 29,
   "metadata": {},
   "outputs": [
    {
     "name": "stdout",
     "output_type": "stream",
     "text": [
      "Team10_keycorp_fifththird.csv\n",
      "{'Bank Name': 'Key Corp Bank', 'Job Title': 'Personal Banker-Centennial-Smoky Buckley Branch', 'URL (URL of the job posting)': 'https://careers.key.com/en-US/job/personal-banker-centennial-smoky-buckley-branch/J3M2QT6H82LKS5R7QM6', 'banking': 4, 'customs': 0, 'data services': 0, 'digitization': 0, 'regulation': 0, 'invest': 0, 'technology': 1, 'platforms': 1, 'innovation': 0, 'secure': 0, 'ledger': 0, 'intermediaries': 0, 'online': 1, 'leverage': 1, 'driven decisions': 0, 'blockchain': 0, 'artificial intelligence ': 0, 'targets': 0, 'strategic analyses': 0, 'amazon': 0, 'machine learning': 0, 'standardise': 0, 'tokenization': 0, 'breach': 0, 'beneficiary': 0, 'api': 0, 'Cryptocurrency': 0, 'Encryption': 0, 'subject matter experts': 0, 'business model agility': 0, 'financial infrastructure': 0, 'user experience innovations': 0, 'financial risk': 0, 'forum leadership chairman': 0, 'real time': 0, 'data collection': 0, 'investment firms': 0, 'insights opportunities': 0, 'payment': 0, 'chief data officer': 0, 'global head strategy': 0, 'professional services adviser': 0, 'governance': 0, 'credit asset management services': 0, 'business models': 0, 'data monetization ': 0, 'private investors': 0, 'open platforms distributors': 0, 'risk analysis portfolio construction compliance tools': 0, 'mobile analytics': 0, 'regulatory compliance': 0, 'control data distributors': 0, 'experience ownership': 0, 'use acquisitions partnerships': 0, 'alternative capital markets': 0, 'process automation tools': 0, 'platforms uncertainties': 0, 'mature payments system': 0, 'opportunities': 6, 'risk': 2, 'data revenues customer platforms': 0, 'financial crisis': 0, 'market leader': 0, 'risk management priority': 0, 'holistic global perspective report': 0, 'authentication requirements': 0, 'important differentiation static data sets enriched flows data multiple sources': 0, 'supply chain management': 0, 'senior executive strategy executive chairman': 0, 'networks': 0, 'international markets': 0, 'retail banking': 0, 'standardize processes': 0, 'capitalization': 0, 'globalization trend': 0, 'consistent world economic forum': 0, 'competitive landscape': 0, 'rapid loan adjudication': 0, 'director': 0, 'corporate strategy government relation': 0, 'role expertise': 0, 'liquidity': 0, 'competing vendor credit': 0, 'monetization ': 0, 'netting': 0, 'collaborative': 0, 'mutualization externalization automation': 0, 'stock': 0, 'framework strategic': 0, 'valuation': 0, 'algorithms': 0, 'standardization': 0, 'prediction illustration': 0, 'Crowd funding': 0, 'depository': 0, 'experience': 5, 'commoditization': 0, 'quantopian': 0, 'flexibility': 0, 'solvency': 0, 'large-scale': 0, 'competitive': 0, 'commoditize': 0, 'economic': 0, 'salesforce': 0, 'access': 1, 'treasury': 0, 'computing': 0, 'automated': 0, 'virtual': 0, 'collateral': 0, 'analytical': 0, 'acceleration': 0, 'renewal': 0, 'customer': 2, 'point-of-sale': 0, 'reconciliation': 0, 'real-time': 0, 'block-chain': 0, 'infrastructure': 0, 'centralized': 0, 'benchmark': 0, 'automation': 0, 'margin': 0, 'credit': 2, 'delineation': 0, 'telecommunication': 0, 'block chain': 0, 'privacy': 0, 'financial': 10, 'market': 1, 'services': 8, 'insurance': 2, 'investors': 0, 'investment': 5, 'capital': 0, 'asset': 0, 'global': 0, 'platform': 2, 'equity': 1, 'trading': 0, 'markets': 0, 'ecosystem': 0, 'mobile': 1, 'scale': 0, 'crowdfunding': 0, 'investor': 0, 'distributed': 0, 'core': 0, 'impact': 0, 'critical': 0, 'focus': 0, 'network': 2, 'contract': 0, 'lenders': 0, 'development': 0, 'schemes': 0, 'lead': 0, 'compliance': 2, 'conditions': 0, 'settlement': 0, 'loan': 3, 'retail': 0, 'innovations': 0, 'growth': 3, 'cloud': 0, 'ai': 0, 'intelligence': 0, 'strategies': 0, 'risks': 0, 'deployment': 0, 'developed': 0, 'analytics': 0, 'machines': 0, 'agility': 0, 'architecture': 0, 'bankregulators': 0, 'insurer': 0, 'cyberinsecurity': 0, 'fraud': 1, 'registry': 0, 'administration': 0, 'software': 0, 'connectivity': 0, 'hack': 0, 'statistics': 0, 'integrations': 0, 'sql': 0, 'java': 0, 'computer': 0, 'agile': 0, 'programming': 0, 'devops': 0, 'cyber': 0, 'manufacturers': 0, 'merchants': 0, 'quantitative': 0, 'stakeholder': 0, 'smart contract': 0, 'strategy': 0, 'investment management': 0, 'revenue': 0, 'regulator': 0, 'capitalise': 0, 'marginalised': 0, 'cybersecurity': 0, 'register': 0, 'demonetization': 0, 'currency': 0, 'macroeconomic': 0, 'brexit': 0, 'cashequity': 0, 'machinelearning': 0, 'neuralnetwork': 0, 'turnover': 0, 'overcapitalization': 0, 'blockchain ': 0, 'cyberattack': 0, 'optimization': 0, 'APIs': 0, 'B2B': 0, 'Algorithm': 0, 'Deep-Dives': 0, 'cognitive': 0, '\"Cryptocurrency,\"': 0, 'Framework': 0, 'AWS': 0, 'globalization': 0, 'Mortgage': 4, 'Internet-of-Things': 0, 'Al': 0, 'riskmanagement': 0, 'cutting-edge': 0, 'Stockspot': 0, 'Healthcare': 0, 'bitcoin': 0, 'creditworthiness': 0, 'demographics': 0, 'mutualfund': 0, '\\ufeffColumn1': 0, 'digital': 0, 'connected': 0, 'ownership': 0, 'security': 1, 'startups': 0, 'algorithmic': 0, 'streamlined': 0, 'standardized': 0, 'innovative': 0, 'leadership': 0, 'evolutionary': 0, 'challenging': 0, 'specialized': 0, 'cryptographic': 0, 'artificial  intelligence': 0, 'audit': 1, 'stakeholders': 0, 'ecosystems': 0, 'smart contracts': 0, 'service providers': 0, 'trading strategies': 0, 'asset rehypothecation': 0, 'global head': 0, 'asset management': 0, 'corporate strategy': 0, 'cloud based': 0, 'angel investors': 0, 'fiduciary rule': 0, 'stage venture': 0, 'liability': 0, 'metadata': 0, 'micropayments': 0, 'cryptocurrencies': 0, 'optimisation': 0, 'automation focused': 0, 'blockchain related': 0, 'fidelity': 0, 'chainalysis': 0, 'tokenisation': 0, 'digitisation': 0, 'crypto-currency': 0, 'customer-oriented': 0, 'annuities': 0, 'equity crowdfunding': 0, 'business model': 0, 'deep dive': 0, 'iot': 0, 'wef': 0, 'recession': 0, 'merger': 1, 'geographics': 0, 'transparency': 0, 'liabilities': 0, 'legislation': 0, 'tradeshift': 0, 'techcrunch': 0, 'biometrics': 0, 'transaction': 1, 'assets': 1}\n"
     ]
    }
   ],
   "source": [
    "import csv\n",
    "import os\n",
    "import pandas as pd\n",
    "\n",
    "\n",
    "def write_to_csv(fileName,urlDict):\n",
    "    fileName = fileName.split('/')[1]\n",
    "    if (type(urlDict) is dict):\n",
    "        data = pd.DataFrame([urlDict])\n",
    "        # if file does not exist write header \n",
    "        if not os.path.isfile('Output/' + fileName):\n",
    "            data.to_csv('Output/' + fileName, header='column_names')\n",
    "        else: # else it exists so append without writing the header\n",
    "            data.to_csv('Output/' + fileName, mode='a', header=False)\n",
    "    else:\n",
    "        print(\"exception?\")\n",
    "\n",
    "def scrape_file(fileName,keywords):\n",
    "    metaDict = {\"Bank Name\" : \"\", \"Job Title\" : \"\", \"URL (URL of the job posting)\" : \"\"}\n",
    "    \n",
    "    wordCountDict = dict.fromkeys(keywords,0)\n",
    "\n",
    "    with open(fileName, 'r', encoding = 'utf-8') as f:\n",
    "        reader = csv.reader(f)\n",
    "        for row in reader:\n",
    "            metaDict[\"Bank Name\"] = row[0]\n",
    "            metaDict[\"Job Title\"] = row[2]\n",
    "            metaDict[\"URL (URL of the job posting)\"] = row[3]\n",
    "            description = row[1].split()\n",
    "            for word in description:\n",
    "                if(word in keywords):\n",
    "                        wordCountDict[word] = wordCountDict.get(word, 0) + 1\n",
    "            write_to_csv(fileName,{**metaDict, **wordCountDict})\n",
    "            break\n",
    "    \n",
    "def get_keywords():\n",
    "    with open(\"tr_tfidf_wordcount_combined.csv\", 'r', encoding = 'utf-8') as f:\n",
    "        reader = csv.reader(f)\n",
    "        keywords = list(reader)\n",
    "    arr = [i[0] for i in keywords]\n",
    "    return arr\n",
    "\n",
    "def analyse_banks():\n",
    "    keywords = get_keywords() #gets the final list of 300 keywords\n",
    "    for filename in os.listdir(\"Data\"):\n",
    "        if filename.endswith(\".csv\"):\n",
    "            print(filename)\n",
    "            scrape_file((\"Data/\" + filename),keywords)\n",
    "            break\n",
    "\n",
    "if __name__ == '__main__':\n",
    "    analyse_banks()"
   ]
  },
  {
   "cell_type": "code",
   "execution_count": null,
   "metadata": {},
   "outputs": [],
   "source": []
  }
 ],
 "metadata": {
  "kernelspec": {
   "display_name": "Python 3",
   "language": "python",
   "name": "python3"
  },
  "language_info": {
   "codemirror_mode": {
    "name": "ipython",
    "version": 3
   },
   "file_extension": ".py",
   "mimetype": "text/x-python",
   "name": "python",
   "nbconvert_exporter": "python",
   "pygments_lexer": "ipython3",
   "version": "3.7.1"
  }
 },
 "nbformat": 4,
 "nbformat_minor": 2
}

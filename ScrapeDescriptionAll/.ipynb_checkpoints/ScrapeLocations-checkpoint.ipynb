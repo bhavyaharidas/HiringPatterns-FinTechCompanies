{
 "cells": [
  {
   "cell_type": "code",
   "execution_count": 8,
   "metadata": {},
   "outputs": [
    {
     "name": "stdout",
     "output_type": "stream",
     "text": [
      " NC\n"
     ]
    }
   ],
   "source": [
    "from bs4 import BeautifulSoup\n",
    "import urllib.request as urllib2\n",
    "from urllib.request import urlopen\n",
    "import re\n",
    "import csv\n",
    "import pandas as pd\n",
    "import os\n",
    "import numpy as np\n",
    "\n",
    "banks = {'http://careers.bankofamerica.com/job-detail/17080459/united-states/us/senior-quantitative-finance-analyst':'h2'}\n",
    "\n",
    "def get_location(Url,tag):\n",
    "    pageHtml = urlopen(Url)\n",
    "    soup = BeautifulSoup(pageHtml)\n",
    "    t = soup.find('div', 'left')\n",
    "    print(t.find(tag).text.split(',')[1])    \n",
    "\n",
    "if __name__ == '__main__':\n",
    "    for key,value in banks.items():\n",
    "        get_location(key,value)"
   ]
  },
  {
   "cell_type": "code",
   "execution_count": 11,
   "metadata": {},
   "outputs": [
    {
     "name": "stdout",
     "output_type": "stream",
     "text": [
      "NJ\n"
     ]
    }
   ],
   "source": [
    "from bs4 import BeautifulSoup\n",
    "import urllib.request as urllib2\n",
    "from urllib.request import urlopen\n",
    "import re\n",
    "import csv\n",
    "import pandas as pd\n",
    "import os\n",
    "import numpy as np\n",
    "\n",
    "banks = {'https://jobs.jpmorganchase.com/ShowJob/Id/203843/Technical-Business-Analyst,-Lead/':'span'}\n",
    "\n",
    "def get_location(Url,tag):\n",
    "    pageHtml = urlopen(Url)\n",
    "    soup = BeautifulSoup(pageHtml)\n",
    "    t = soup.find('div', 'jobdescriptiontbl')\n",
    "    print(t.find(tag,{'itemprop':'addressRegion'}).text)    \n",
    "\n",
    "if __name__ == '__main__':\n",
    "    for key,value in banks.items():\n",
    "        get_location(key,value)"
   ]
  },
  {
   "cell_type": "code",
   "execution_count": 15,
   "metadata": {},
   "outputs": [
    {
     "name": "stdout",
     "output_type": "stream",
     "text": [
      "California\n"
     ]
    }
   ],
   "source": [
    "from bs4 import BeautifulSoup\n",
    "import urllib.request as urllib2\n",
    "from urllib.request import urlopen\n",
    "import re\n",
    "import csv\n",
    "import pandas as pd\n",
    "import os\n",
    "import numpy as np\n",
    "\n",
    "banks = {'https://jobs.citi.com/job/lakewood/part-time-teller-23-hours-lakewood-branch/287/10720425':'ul'}\n",
    "\n",
    "def get_location(Url,tag):\n",
    "    pageHtml = urlopen(Url)\n",
    "    soup = BeautifulSoup(pageHtml)\n",
    "    t = soup.find('span',{'class' :'job-description2 job-info'})\n",
    "    print(t.find(tag).text.split(',')[1])\n",
    "\n",
    "if __name__ == '__main__':\n",
    "    for key,value in banks.items():\n",
    "        get_location(key,value)"
   ]
  },
  {
   "cell_type": "code",
   "execution_count": 35,
   "metadata": {},
   "outputs": [
    {
     "name": "stdout",
     "output_type": "stream",
     "text": [
      "Phoenix, Arizona\n"
     ]
    }
   ],
   "source": [
    "from bs4 import BeautifulSoup\n",
    "import urllib.request as urllib2\n",
    "from urllib.request import urlopen\n",
    "import re\n",
    "import csv\n",
    "import pandas as pd\n",
    "import os\n",
    "import numpy as np\n",
    "\n",
    "banks = {'https://jobs.americanexpress.com/jobs/18009339?lang=en-us&previousLocale=en-US':'span'}\n",
    "\n",
    "def get_location(Url,tag):\n",
    "    pageHtml = urlopen(Url)\n",
    "    soup = BeautifulSoup(pageHtml)\n",
    "    t = soup.find('div',{'class':'job-location job-categories'})\n",
    "    print(t.findAll('span')[1].text)\n",
    "\n",
    "if __name__ == '__main__':\n",
    "    for key,value in banks.items():\n",
    "        get_location(key,value)"
   ]
  },
  {
   "cell_type": "code",
   "execution_count": 53,
   "metadata": {},
   "outputs": [
    {
     "name": "stdout",
     "output_type": "stream",
     "text": [
      "Nebraska-NE-Omaha\n"
     ]
    }
   ],
   "source": [
    "from selenium import webdriver\n",
    "from bs4 import BeautifulSoup\n",
    "\n",
    "\n",
    "browser = webdriver.Chrome() #replace with .Firefox(), or with the browser of your choice\n",
    "url = \"https://usbank.taleo.net/careersection/10000/jobdetail.ftl?job=180018646&tz=GMT-05%3A00&tzname=America%2FNew_York\"\n",
    "browser.get(url) #navigate to the page\n",
    "source = browser.execute_script(\"return document.body.innerHTML\") #returns the inner HTML as a string\n",
    "soup = BeautifulSoup(source)\n",
    "print(soup.find('span',{'id':'requisitionDescriptionInterface.ID1677.row1'}).text)"
   ]
  },
  {
   "cell_type": "code",
   "execution_count": 56,
   "metadata": {},
   "outputs": [
    {
     "name": "stdout",
     "output_type": "stream",
     "text": [
      "Location Vienna, Virginia; Richmond, Virginia\n"
     ]
    }
   ],
   "source": [
    "from bs4 import BeautifulSoup\n",
    "import urllib.request as urllib2\n",
    "from urllib.request import urlopen\n",
    "import re\n",
    "import csv\n",
    "import pandas as pd\n",
    "import os\n",
    "import numpy as np\n",
    "\n",
    "banks = {'https://www.capitalonecareers.com/job/vienna/full-stack-software-engineer-ease-platform/1732/10921574':'span'}\n",
    "\n",
    "def get_location(Url,tag):\n",
    "    pageHtml = urlopen(Url)\n",
    "    soup = BeautifulSoup(pageHtml)\n",
    "    t = soup.findAll('span',{'class':'job-info'})\n",
    "    for ta in t:\n",
    "        if(ta.find('b').text == 'Location'):\n",
    "            print(ta.text)\n",
    "\n",
    "if __name__ == '__main__':\n",
    "    for key,value in banks.items():\n",
    "        get_location(key,value)"
   ]
  },
  {
   "cell_type": "code",
   "execution_count": 59,
   "metadata": {},
   "outputs": [
    {
     "name": "stdout",
     "output_type": "stream",
     "text": [
      "New York, New York\n"
     ]
    }
   ],
   "source": [
    "from bs4 import BeautifulSoup\n",
    "import urllib.request as urllib2\n",
    "from urllib.request import urlopen\n",
    "import re\n",
    "import csv\n",
    "import pandas as pd\n",
    "import os\n",
    "import numpy as np\n",
    "\n",
    "banks = {'https://jobs.bnymellon.com/jobs/1816259?lang=en-us':'span'}\n",
    "\n",
    "def get_location(Url,tag):\n",
    "    pageHtml = urlopen(Url)\n",
    "    soup = BeautifulSoup(pageHtml)\n",
    "    t = soup.find('div',{'class':'job-location job-categories'})\n",
    "    print(t.findAll('span')[1].text)\n",
    "\n",
    "if __name__ == '__main__':\n",
    "    for key,value in banks.items():\n",
    "        get_location(key,value)"
   ]
  },
  {
   "cell_type": "code",
   "execution_count": 64,
   "metadata": {},
   "outputs": [
    {
     "name": "stdout",
     "output_type": "stream",
     "text": [
      "AZ - Phoenix\n"
     ]
    }
   ],
   "source": [
    "from bs4 import BeautifulSoup\n",
    "import urllib.request as urllib2\n",
    "from urllib.request import urlopen\n",
    "import re\n",
    "import csv\n",
    "import pandas as pd\n",
    "import os\n",
    "import numpy as np\n",
    "\n",
    "banks = {'https://www.schwabjobs.com/ShowJob/Id/1945075/Staff-Information-Security-Analyst-II/':'span'}\n",
    "\n",
    "def get_location(Url,tag):\n",
    "    pageHtml = urlopen(Url)\n",
    "    soup = BeautifulSoup(pageHtml)\n",
    "    t = soup.find('div',{'class':'col-sm-12 col-lg-5'})\n",
    "    print(t.findAll('div')[1].text)\n",
    "\n",
    "if __name__ == '__main__':\n",
    "    for key,value in banks.items():\n",
    "        get_location(key,value)"
   ]
  },
  {
   "cell_type": "code",
   "execution_count": null,
   "metadata": {},
   "outputs": [],
   "source": []
  }
 ],
 "metadata": {
  "kernelspec": {
   "display_name": "Python 3",
   "language": "python",
   "name": "python3"
  },
  "language_info": {
   "codemirror_mode": {
    "name": "ipython",
    "version": 3
   },
   "file_extension": ".py",
   "mimetype": "text/x-python",
   "name": "python",
   "nbconvert_exporter": "python",
   "pygments_lexer": "ipython3",
   "version": "3.7.1"
  }
 },
 "nbformat": 4,
 "nbformat_minor": 2
}

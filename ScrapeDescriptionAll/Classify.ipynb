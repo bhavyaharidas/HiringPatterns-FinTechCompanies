{
 "cells": [
  {
   "cell_type": "code",
   "execution_count": 8,
   "metadata": {},
   "outputs": [
    {
     "name": "stdout",
     "output_type": "stream",
     "text": [
      "Team10_keycorp_fifththird.csv\n"
     ]
    }
   ],
   "source": [
    "import csv\n",
    "import os\n",
    "import pandas as pd\n",
    "\n",
    "clusters = []\n",
    "clusterNames = []\n",
    "\n",
    "def get_cluster(keyword):\n",
    "    for cluster in clusters:\n",
    "        for key, value in cluster.items():\n",
    "            if(keyword in value):\n",
    "                return key\n",
    "    return \"None\"\n",
    "\n",
    "def write_to_csv(fileName,urlDict):\n",
    "    fileName = fileName.split('/')[1]\n",
    "    if (type(urlDict) is dict):\n",
    "        data = pd.DataFrame([urlDict], columns=urlDict.keys())\n",
    "        # if file does not exist write header \n",
    "        if not os.path.isfile('ClusterScore/' + fileName):\n",
    "            data.to_csv('ClusterScore/' + fileName, header='column_names')\n",
    "        else: # else it exists so append without writing the header\n",
    "            data.to_csv('ClusterScore/' + fileName, mode='a', header=False)\n",
    "    else:\n",
    "        print(\"exception?\")\n",
    "    \n",
    "def calculate_clusters_scores(rowDict):\n",
    "    finTechClusters = ['cluster1_tech_words.csv']\n",
    "    for key, value in rowDict.items():\n",
    "        if(key in clusterNames and value > 0):\n",
    "            if(key in finTechClusters):\n",
    "                score = rowDict['FinTech Score']\n",
    "                newScore = score + 1\n",
    "                rowDict['FinTech Score'] = newScore\n",
    "            else:\n",
    "                score = rowDict['Non-Fintech Score']\n",
    "                newScore = score + 1\n",
    "                rowDict['Non-Fintech Score'] = newScore\n",
    "    return rowDict\n",
    "        \n",
    "        \n",
    "\n",
    "def classify_banks(filename):\n",
    "    dict_list = []\n",
    "    \n",
    "    with open(filename, 'r', encoding = 'utf-8') as f:\n",
    "        reader = csv.DictReader(f, skipinitialspace=True)\n",
    "        d = {name: [] for name in reader.fieldnames}\n",
    "        for row in reader:\n",
    "            rowDict = {'Bank Name' : '','Job Title': '','URL (URL of the job posting)':'', 'FinTech Score' : 0, 'Non-Fintech Score':0}\n",
    "            for cluster in clusterNames:\n",
    "                rowDict[cluster] = 0\n",
    "            for name in reader.fieldnames:\n",
    "                if(name in ['Bank Name','Job Title','URL (URL of the job posting)']):\n",
    "                    rowDict[name] = row[name]\n",
    "                else:\n",
    "                    if(int(row[name]) > 0):\n",
    "                        cluster = get_cluster(name)\n",
    "                        if(cluster != \"None\"):\n",
    "                            rowDict[cluster] = 1\n",
    "            write_to_csv(filename,calculate_clusters_scores(rowDict))\n",
    "    \n",
    "    \n",
    "def classify_all():\n",
    "    for filename in os.listdir(\"Output\"):\n",
    "        if filename.endswith(\".csv\"):\n",
    "            print(filename)\n",
    "            classify_banks((\"Output/\" + filename))\n",
    "            break\n",
    "    \n",
    "\n",
    "def get_all_clusters():\n",
    "    for filename in os.listdir(\"Clusters\"):\n",
    "        if filename.endswith(\".csv\"):\n",
    "            with open(\"Clusters/\" + filename, 'r', encoding = 'utf-8') as f:\n",
    "                reader = csv.reader(f)\n",
    "                keywords = list(reader)\n",
    "            clusters.append({filename : [i[0] for i in keywords]})\n",
    "            clusterNames.append(filename)\n",
    "        \n",
    "if __name__ == '__main__':\n",
    "    get_all_clusters()\n",
    "    classify_all()"
   ]
  },
  {
   "cell_type": "code",
   "execution_count": null,
   "metadata": {},
   "outputs": [],
   "source": []
  },
  {
   "cell_type": "code",
   "execution_count": null,
   "metadata": {},
   "outputs": [],
   "source": []
  }
 ],
 "metadata": {
  "kernelspec": {
   "display_name": "Python 3",
   "language": "python",
   "name": "python3"
  },
  "language_info": {
   "codemirror_mode": {
    "name": "ipython",
    "version": 3
   },
   "file_extension": ".py",
   "mimetype": "text/x-python",
   "name": "python",
   "nbconvert_exporter": "python",
   "pygments_lexer": "ipython3",
   "version": "3.7.1"
  }
 },
 "nbformat": 4,
 "nbformat_minor": 2
}

{
 "cells": [
  {
   "cell_type": "code",
   "execution_count": 34,
   "metadata": {},
   "outputs": [
    {
     "name": "stdout",
     "output_type": "stream",
     "text": [
      "Team10_keycorp_fifththird.csv\n",
      "Team11_Regions_Citizens.csv\n",
      "Team12_Huntington_Comerica.csv\n",
      "Team1_JPC_BofA.csv\n",
      "Team2_WellsFar_Citi.csv\n",
      "Team3_MorganStan_GoldSach.csv\n",
      "Team4_AmericanExpress_USBank.csv\n",
      "Team5_CharlesSchwab_PNC.csv\n",
      "Team6_BNY_CapitalOne.csv\n",
      "Team7_BBT_StateStreet.csv\n",
      "Team8_Suntrust_Discover.csv\n",
      "Team9_M&T_Northerntrust.csv\n"
     ]
    }
   ],
   "source": [
    "import csv\n",
    "import os\n",
    "import pandas as pd\n",
    "\n",
    "\n",
    "def write_to_csv(fileName,urlDict):\n",
    "    fileName = fileName.split('/')[1]\n",
    "    if (type(urlDict) is dict):\n",
    "        data = pd.DataFrame([urlDict], columns=urlDict.keys())\n",
    "        # if file does not exist write header \n",
    "        if not os.path.isfile('Output/' + fileName):\n",
    "            data.to_csv('Output/' + fileName, header='column_names')\n",
    "        else: # else it exists so append without writing the header\n",
    "            data.to_csv('Output/' + fileName, mode='a', header=False)\n",
    "    else:\n",
    "        print(\"exception?\")\n",
    "\n",
    "def scrape_file(fileName,keywords):\n",
    "    with open(fileName, 'r', encoding = 'utf-8') as f:\n",
    "        reader = csv.reader(f)\n",
    "        for row in reader:\n",
    "            metaDict = {\"Bank Name\" : \"\", \"Job Title\" : \"\", \"URL (URL of the job posting)\" : \"\"}\n",
    "            wordCountDict = dict.fromkeys(keywords,0)\n",
    "            metaDict[\"Bank Name\"] = row[0]\n",
    "            metaDict[\"Job Title\"] = row[2]\n",
    "            metaDict[\"URL (URL of the job posting)\"] = row[3]\n",
    "            desc_words = row[1].split()\n",
    "            desc_bigrams = [desc_words[i] + \" \" + desc_words[i+1] for i in range(0, len(desc_words)-1)]\n",
    "            for word in keywords:\n",
    "                if(word in desc_bigrams):\n",
    "                    wordCountDict[word] = desc_bigrams.count(word)\n",
    "                else:\n",
    "                    wordCountDict[word] = desc_words.count(word)\n",
    "            write_to_csv(fileName,{**metaDict, **wordCountDict})\n",
    "    \n",
    "def get_keywords():\n",
    "    with open(\"tr_tfidf_wordcount_combined.csv\", 'r', encoding = 'utf-8') as f:\n",
    "        reader = csv.reader(f)\n",
    "        keywords = list(reader)\n",
    "    arr = [i[0] for i in keywords]\n",
    "    return arr\n",
    "\n",
    "def analyse_banks():\n",
    "    keywords = get_keywords() #gets the final list of 300 keywords\n",
    "    for filename in os.listdir(\"Data\"):\n",
    "        if filename.endswith(\".csv\"):\n",
    "            print(filename)\n",
    "            scrape_file((\"Data/\" + filename),keywords)\n",
    "\n",
    "if __name__ == '__main__':\n",
    "    analyse_banks()"
   ]
  },
  {
   "cell_type": "code",
   "execution_count": null,
   "metadata": {},
   "outputs": [],
   "source": []
  }
 ],
 "metadata": {
  "kernelspec": {
   "display_name": "Python 3",
   "language": "python",
   "name": "python3"
  },
  "language_info": {
   "codemirror_mode": {
    "name": "ipython",
    "version": 3
   },
   "file_extension": ".py",
   "mimetype": "text/x-python",
   "name": "python",
   "nbconvert_exporter": "python",
   "pygments_lexer": "ipython3",
   "version": "3.7.1"
  }
 },
 "nbformat": 4,
 "nbformat_minor": 2
}
